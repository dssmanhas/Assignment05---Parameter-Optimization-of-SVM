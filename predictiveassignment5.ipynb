{
 "cells": [
  {
   "cell_type": "code",
   "execution_count": 1,
   "id": "7d1354d4",
   "metadata": {
    "_cell_guid": "b1076dfc-b9ad-4769-8c92-a6c4dae69d19",
    "_uuid": "8f2839f25d086af736a60e9eeb907d3b93b6e0e5",
    "execution": {
     "iopub.execute_input": "2025-04-19T13:41:45.574692Z",
     "iopub.status.busy": "2025-04-19T13:41:45.574029Z",
     "iopub.status.idle": "2025-04-19T13:41:46.946435Z",
     "shell.execute_reply": "2025-04-19T13:41:46.945646Z"
    },
    "papermill": {
     "duration": 1.376302,
     "end_time": "2025-04-19T13:41:46.947902",
     "exception": false,
     "start_time": "2025-04-19T13:41:45.571600",
     "status": "completed"
    },
    "tags": []
   },
   "outputs": [],
   "source": [
    "# This Python 3 environment comes with many helpful analytics libraries installed\n",
    "# It is defined by the kaggle/python Docker image: https://github.com/kaggle/docker-python\n",
    "# For example, here's several helpful packages to load\n",
    "\n",
    "import numpy as np # linear algebra\n",
    "import pandas as pd # data processing, CSV file I/O (e.g. pd.read_csv)\n",
    "\n",
    "# Input data files are available in the read-only \"../input/\" directory\n",
    "# For example, running this (by clicking run or pressing Shift+Enter) will list all files under the input directory\n",
    "\n",
    "import os\n",
    "for dirname, _, filenames in os.walk('/kaggle/input'):\n",
    "    for filename in filenames:\n",
    "        print(os.path.join(dirname, filename))\n",
    "\n",
    "# You can write up to 20GB to the current directory (/kaggle/working/) that gets preserved as output when you create a version using \"Save & Run All\" \n",
    "# You can also write temporary files to /kaggle/temp/, but they won't be saved outside of the current session"
   ]
  },
  {
   "cell_type": "code",
   "execution_count": 2,
   "id": "64049128",
   "metadata": {
    "execution": {
     "iopub.execute_input": "2025-04-19T13:41:46.952134Z",
     "iopub.status.busy": "2025-04-19T13:41:46.951608Z",
     "iopub.status.idle": "2025-04-19T16:12:49.423606Z",
     "shell.execute_reply": "2025-04-19T16:12:49.422841Z"
    },
    "papermill": {
     "duration": 9062.477065,
     "end_time": "2025-04-19T16:12:49.426713",
     "exception": false,
     "start_time": "2025-04-19T13:41:46.949648",
     "status": "completed"
    },
    "tags": []
   },
   "outputs": [
    {
     "name": "stderr",
     "output_type": "stream",
     "text": [
      "/usr/local/lib/python3.11/dist-packages/sklearn/datasets/_openml.py:968: FutureWarning: The default value of `parser` will change from `'liac-arff'` to `'auto'` in 1.4. You can set `parser='auto'` to silence this warning. Therefore, an `ImportError` will be raised from 1.4 if the dataset is dense and pandas is not installed. Note that the pandas parser may return different data types. See the Notes Section in fetch_openml's API doc for details.\n",
      "  warn(\n"
     ]
    },
    {
     "data": {
      "image/png": "[encoded data removed]",
      "text/plain": [
       "<Figure size 800x500 with 1 Axes>"
      ]
     },
     "metadata": {},
     "output_type": "display_data"
    }
   ],
   "source": [
    "import numpy as np\n",
    "import pandas as pd\n",
    "import matplotlib.pyplot as plt\n",
    "from sklearn.model_selection import train_test_split\n",
    "from sklearn.svm import NuSVC\n",
    "from sklearn.metrics import accuracy_score\n",
    "from sklearn.preprocessing import LabelEncoder\n",
    "from sklearn.datasets import fetch_openml\n",
    "import random\n",
    "\n",
    "# Load dataset\n",
    "dataset = fetch_openml(\"letter\", version=1, as_frame=True)\n",
    "X = dataset.data\n",
    "y = dataset.target\n",
    "\n",
    "# Encode labels to numeric\n",
    "y = LabelEncoder().fit_transform(y)\n",
    "\n",
    "results = []\n",
    "convergence_history = {}\n",
    "\n",
    "# Optimization function (random search for simplicity)\n",
    "def optimize_svm(X_train, y_train, X_test, y_test, iterations=100):\n",
    "    best_acc = 0\n",
    "    best_params = {}\n",
    "    history = []\n",
    "    \n",
    "    for i in range(iterations):\n",
    "        kernel = random.choice(['linear', 'poly', 'rbf', 'sigmoid'])\n",
    "        nu = round(random.uniform(0.01, 0.5), 2)\n",
    "        gamma = \"scale\"  # fixed for stability\n",
    "\n",
    "        try:\n",
    "            clf = NuSVC(kernel=kernel, nu=nu, gamma=gamma)\n",
    "            clf.fit(X_train, y_train)\n",
    "            preds = clf.predict(X_test)\n",
    "            acc = accuracy_score(y_test, preds)\n",
    "        except:\n",
    "            acc = 0\n",
    "\n",
    "        if acc > best_acc:\n",
    "            best_acc = acc\n",
    "            best_params = {\"kernel\": kernel, \"nu\": nu}\n",
    "        history.append(best_acc)\n",
    "\n",
    "    return best_acc, best_params, history\n",
    "\n",
    "# Run for 10 samples\n",
    "for i in range(10):\n",
    "    X_train, X_test, y_train, y_test = train_test_split(X, y, test_size=0.3, random_state=i)\n",
    "    acc, params, hist = optimize_svm(X_train, y_train, X_test, y_test)\n",
    "    convergence_history[f\"S{i+1}\"] = hist\n",
    "    results.append({\n",
    "        \"Sample #\": f\"S{i+1}\",\n",
    "        \"Best Accuracy\": round(acc * 100, 2),\n",
    "        \"Best SVM Parameters (Kernel, Nu, Epsilon)\": f\"{params['kernel']}, {params['nu']}, N/A\"\n",
    "    })\n",
    "\n",
    "# Save results to CSV\n",
    "df = pd.DataFrame(results)\n",
    "df.to_csv(\"optimized_svm_results.csv\", index=False)\n",
    "\n",
    "# Find sample with best accuracy\n",
    "best_sample_index = df[\"Best Accuracy\"].idxmax()\n",
    "best_sample_key = df.iloc[best_sample_index][\"Sample #\"]\n",
    "\n",
    "# Plot convergence\n",
    "plt.figure(figsize=(8, 5))\n",
    "plt.plot(convergence_history[best_sample_key])\n",
    "plt.xlabel(\"Iteration\")\n",
    "plt.ylabel(\"Accuracy\")\n",
    "plt.title(\"Fitness (bestAccuracy)\")\n",
    "plt.grid(True)\n",
    "plt.tight_layout()\n",
    "plt.savefig(\"convergence_plot.png\")\n",
    "plt.show()\n"
   ]
  }
 ],
 "metadata": {
  "kaggle": {
   "accelerator": "nvidiaTeslaT4",
   "dataSources": [],
   "dockerImageVersionId": 31011,
   "isGpuEnabled": true,
   "isInternetEnabled": true,
   "language": "python",
   "sourceType": "notebook"
  },
  "kernelspec": {
   "display_name": "Python 3",
   "language": "python",
   "name": "python3"
  },
  "language_info": {
   "codemirror_mode": {
    "name": "ipython",
    "version": 3
   },
   "file_extension": ".py",
   "mimetype": "text/x-python",
   "name": "python",
   "nbconvert_exporter": "python",
   "pygments_lexer": "ipython3",
   "version": "3.11.11"
  },
  "papermill": {
   "default_parameters": {},
   "duration": 9068.326811,
   "end_time": "2025-04-19T16:12:49.960889",
   "environment_variables": {},
   "exception": null,
   "input_path": "__notebook__.ipynb",
   "output_path": "__notebook__.ipynb",
   "parameters": {},
   "start_time": "2025-04-19T13:41:41.634078",
   "version": "2.6.0"
  }
 },
 "nbformat": 4,
 "nbformat_minor": 5
}
